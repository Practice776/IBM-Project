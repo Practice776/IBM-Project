{
 "cells": [
  {
   "cell_type": "markdown",
   "id": "a95d12d4-0571-4eac-a5fb-83c9442df7e6",
   "metadata": {},
   "source": [
    "# Data Science Tools and Ecosystem\n"
   ]
  },
  {
   "cell_type": "markdown",
   "id": "2ec8dfde-0892-48e8-891c-44b32b27ec76",
   "metadata": {},
   "source": [
    "In this notebook, Data Science Tools and Ecosystem are summarized."
   ]
  },
  {
   "cell_type": "markdown",
   "id": "a84abd36-dcfa-46a2-b3f3-3e21d9b2bf03",
   "metadata": {},
   "source": [
    "Some of the popular languages that Data Scientists use are"
   ]
  },
  {
   "cell_type": "markdown",
   "id": "2e36199d-8a2a-4e12-9356-79c8c9ef73e0",
   "metadata": {},
   "source": [
    "1. Python\n",
    "2. R\n",
    "3. Java"
   ]
  },
  {
   "cell_type": "markdown",
   "id": "6c5e5301-01b2-4730-81a1-6bf5eeef4986",
   "metadata": {},
   "source": [
    "Some of the commonly used libraries used by Data Scientists include"
   ]
  },
  {
   "cell_type": "markdown",
   "id": "69bae1d0-be3f-4744-99c4-aef0a4dcb2b1",
   "metadata": {},
   "source": [
    "1. Numpy\n",
    "2. Pandas\n",
    "3. Sk-Learn"
   ]
  },
  {
   "cell_type": "markdown",
   "id": "ac16b2c1-5eda-478e-ac63-1d5e51ef2250",
   "metadata": {},
   "source": [
    "Data Science Tools"
   ]
  },
  {
   "cell_type": "markdown",
   "id": "9ce104d6-a574-4788-b2f9-3818a7c8758e",
   "metadata": {},
   "source": [
    "Jupyter Notebook"
   ]
  },
  {
   "cell_type": "markdown",
   "id": "f4331140-48d2-4fb9-9e2b-b1d8d1fa22bc",
   "metadata": {},
   "source": [
    "RStudio  "
   ]
  },
  {
   "cell_type": "markdown",
   "id": "969da7ec-4809-4bef-a2ab-2464ac565df7",
   "metadata": {},
   "source": [
    "PyCharm  "
   ]
  },
  {
   "cell_type": "markdown",
   "id": "3fbbcf3e-d9bf-475f-881a-233c410764f4",
   "metadata": {},
   "source": [
    "### Below are a few examples of evaluating arithmetic expressions in Python"
   ]
  },
  {
   "cell_type": "code",
   "execution_count": 1,
   "id": "7ec29310-33ef-4802-bfe9-24aafa0ff5f8",
   "metadata": {},
   "outputs": [
    {
     "data": {
      "text/plain": [
       "17"
      ]
     },
     "execution_count": 1,
     "metadata": {},
     "output_type": "execute_result"
    }
   ],
   "source": [
    "result = (3 * 4) + 5\n",
    "result"
   ]
  },
  {
   "cell_type": "code",
   "execution_count": 2,
   "id": "9d7acb18-afc9-45bb-9d7e-945fc94b8679",
   "metadata": {},
   "outputs": [
    {
     "data": {
      "text/plain": [
       "3.3333333333333335"
      ]
     },
     "execution_count": 2,
     "metadata": {},
     "output_type": "execute_result"
    }
   ],
   "source": [
    "# This will convert 200 minutes to hours by dividing by 60.\n",
    "hours = 200 / 60\n",
    "hours"
   ]
  },
  {
   "cell_type": "markdown",
   "id": "b7e471df-695a-4f97-8ac2-296f1def3c49",
   "metadata": {},
   "source": [
    "**Objectives:**"
   ]
  },
  {
   "cell_type": "markdown",
   "id": "73a9890a-b2bf-4b4e-b044-6c44be0093b9",
   "metadata": {},
   "source": [
    "- List popular languages for Data Science.\n",
    "- List commonly used libraries for Data Science.\n",
    "- Show examples of arithmetic expressions.\n",
    "- Convert minutes to hours."
   ]
  },
  {
   "cell_type": "markdown",
   "id": "c36883a0-3788-4144-be67-e3b6a665f1a8",
   "metadata": {},
   "source": [
    "## Author\n",
    "Prashanth S"
   ]
  },
  {
   "cell_type": "code",
   "execution_count": null,
   "id": "e43fa611-ad37-4b11-ba08-d07bda7699e0",
   "metadata": {},
   "outputs": [],
   "source": []
  }
 ],
 "metadata": {
  "kernelspec": {
   "display_name": "Python 3 (ipykernel)",
   "language": "python",
   "name": "python3"
  },
  "language_info": {
   "codemirror_mode": {
    "name": "ipython",
    "version": 3
   },
   "file_extension": ".py",
   "mimetype": "text/x-python",
   "name": "python",
   "nbconvert_exporter": "python",
   "pygments_lexer": "ipython3",
   "version": "3.11.5"
  }
 },
 "nbformat": 4,
 "nbformat_minor": 5
}
